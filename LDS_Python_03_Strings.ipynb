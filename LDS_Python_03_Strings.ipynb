{
  "cells": [
    {
      "cell_type": "markdown",
      "metadata": {
        "id": "view-in-github",
        "colab_type": "text"
      },
      "source": [
        "<a href=\"https://colab.research.google.com/github/EduPekUfpr/DS01_PPGOLD/blob/main/LDS_Python_03_Strings.ipynb\" target=\"_parent\"><img src=\"https://colab.research.google.com/assets/colab-badge.svg\" alt=\"Open In Colab\"/></a>"
      ]
    },
    {
      "cell_type": "markdown",
      "metadata": {
        "id": "kxQ0h6rEsuR9"
      },
      "source": [
        "<p style =\"text-align:center\">\n",
        "    <img src=\"http://epecora.com.br/DataFiles/BannerUFPR.png\" width=\"700\" alt=\"PPGOLD/PPGMNE Python:INTRO\"  />\n",
        "</p>\n",
        "\n",
        "\n",
        "# **Python Básico**\n",
        "\n",
        "## Strings\n",
        "\n",
        "Em Python, uma string é uma sequência de caracteres utilizada para representar texto.\n",
        "\n",
        "Strings são delimitadas por aspas simples ('...'), aspas duplas (\"...\"), ou triplas aspas ('''...''' ou \"\"\"...\"\"\"). Elas são imutáveis, o que significa que, uma vez criadas, não podem ser alteradas diretamente.\n"
      ]
    },
    {
      "cell_type": "code",
      "execution_count": null,
      "metadata": {
        "id": "VXQSvGQFWtBb",
        "colab": {
          "base_uri": "https://localhost:8080/"
        },
        "outputId": "61b1b19e-d384-4f74-ea8a-2122d0f62186"
      },
      "outputs": [
        {
          "output_type": "stream",
          "name": "stdout",
          "text": [
            "A UFPR é a melhor universidade do Paraná!\n"
          ]
        }
      ],
      "source": [
        "txt = \"A UFPR é a melhor universidade do Paraná!\"\n",
        "print(txt)"
      ]
    },
    {
      "cell_type": "code",
      "source": [
        "# Toda String tem um tamanho definido\n",
        "len(txt)"
      ],
      "metadata": {
        "colab": {
          "base_uri": "https://localhost:8080/"
        },
        "id": "v-z_Gcq41gG2",
        "outputId": "bbbb929d-277b-43e6-9957-9aeff09779e9"
      },
      "execution_count": null,
      "outputs": [
        {
          "output_type": "execute_result",
          "data": {
            "text/plain": [
              "41"
            ]
          },
          "metadata": {},
          "execution_count": 56
        }
      ]
    },
    {
      "cell_type": "markdown",
      "source": [
        "### Imutabilidade da String"
      ],
      "metadata": {
        "id": "NnZmNj4OzEGj"
      }
    },
    {
      "cell_type": "code",
      "source": [
        "# Definindo uma string\n",
        "s = \"Python\"\n",
        "\n",
        "# Tentando alterar o primeiro caractere\n",
        "try:\n",
        "    s[0] = \"J\"\n",
        "except TypeError as e:\n",
        "    print(f\"Erro: {e}\")"
      ],
      "metadata": {
        "colab": {
          "base_uri": "https://localhost:8080/"
        },
        "id": "aLnDzsDizGLg",
        "outputId": "4712ba30-f57b-4da5-f633-733554d65234"
      },
      "execution_count": null,
      "outputs": [
        {
          "output_type": "stream",
          "name": "stdout",
          "text": [
            "Erro: 'str' object does not support item assignment\n"
          ]
        }
      ]
    },
    {
      "cell_type": "code",
      "source": [
        "# Criando uma nova string com a modificação desejada\n",
        "s = \"Python\"\n",
        "new_s = \"J\" + s[1:]\n",
        "\n",
        "print(new_s)  # Resultado: 'Jython'"
      ],
      "metadata": {
        "colab": {
          "base_uri": "https://localhost:8080/"
        },
        "id": "Ceqd7WHRzQOr",
        "outputId": "d0390f53-5bb2-42a9-f3d3-aa7a8d22a225"
      },
      "execution_count": null,
      "outputs": [
        {
          "output_type": "stream",
          "name": "stdout",
          "text": [
            "Jython\n"
          ]
        }
      ]
    },
    {
      "cell_type": "code",
      "source": [
        "# Atribuir a modificação desejada na mesma string\n",
        "s = \"Python\"\n",
        "s = \"J\" + s[1:]\n",
        "\n",
        "print(s)  # Resultado: 'Jython'"
      ],
      "metadata": {
        "colab": {
          "base_uri": "https://localhost:8080/"
        },
        "id": "xJkCjo_KzRw1",
        "outputId": "3ab4c34d-b7f7-491a-8ef4-12abb1d5bff9"
      },
      "execution_count": null,
      "outputs": [
        {
          "output_type": "stream",
          "name": "stdout",
          "text": [
            "Jython\n"
          ]
        }
      ]
    },
    {
      "cell_type": "markdown",
      "source": [
        "### Manipulação de Strings"
      ],
      "metadata": {
        "id": "_Of16GdVzei4"
      }
    },
    {
      "cell_type": "code",
      "source": [
        "#Definindo uma string de exemplo\n",
        "s = \"  Python é incrível! \"\n",
        "\n",
        "# 1. Remover espaços em branco no início e no fim da string\n",
        "s_strip = s.strip()\n",
        "print(f\"strip(): '{s_strip}'\")"
      ],
      "metadata": {
        "colab": {
          "base_uri": "https://localhost:8080/"
        },
        "id": "64Bi68KHzdeg",
        "outputId": "3ec4c15d-d5ed-4003-8f86-eaa1bfdf4fe2"
      },
      "execution_count": null,
      "outputs": [
        {
          "output_type": "stream",
          "name": "stdout",
          "text": [
            "strip(): 'Python é incrível!'\n"
          ]
        }
      ]
    },
    {
      "cell_type": "code",
      "source": [
        "# 2. Converter a string para maiúsculas e minúsculas\n",
        "s_upper = s_strip.upper()\n",
        "print(f\"upper(): '{s_upper}'\")\n",
        "\n",
        "s_lower = s_strip.lower()\n",
        "print(f\"lower(): '{s_lower}'\")"
      ],
      "metadata": {
        "colab": {
          "base_uri": "https://localhost:8080/"
        },
        "id": "3Ccoi1Fezncf",
        "outputId": "5c5d76ac-84e8-4941-d6f6-7e4f5465c659"
      },
      "execution_count": null,
      "outputs": [
        {
          "output_type": "stream",
          "name": "stdout",
          "text": [
            "upper(): 'PYTHON É INCRÍVEL!'\n",
            "lower(): 'python é incrível!'\n"
          ]
        }
      ]
    },
    {
      "cell_type": "code",
      "source": [
        "# 3. Substituir parte da string por outra\n",
        "s_replace = s_strip.replace(\"incrível\", \"fantástico\")\n",
        "print(f\"replace(): '{s_replace}'\")"
      ],
      "metadata": {
        "colab": {
          "base_uri": "https://localhost:8080/"
        },
        "id": "uUCtiU1JzqZT",
        "outputId": "7a96a9b6-d7e4-4ea4-b309-93f7a4f5ea6c"
      },
      "execution_count": null,
      "outputs": [
        {
          "output_type": "stream",
          "name": "stdout",
          "text": [
            "replace(): 'Python é fantástico!'\n"
          ]
        }
      ]
    },
    {
      "cell_type": "code",
      "source": [
        "# 4. Verificar se a string começa ou termina com uma substring específica\n",
        "starts_with = s_strip.startswith(\"Python\")\n",
        "print(f\"startswith('Python'): {starts_with}\")\n",
        "\n",
        "ends_with = s_strip.endswith(\"!\")\n",
        "print(f\"endswith('!'): {ends_with}\")"
      ],
      "metadata": {
        "colab": {
          "base_uri": "https://localhost:8080/"
        },
        "id": "A-d3xj3SzuVf",
        "outputId": "50174c0d-0c85-41d4-cc90-58b0f8d5df97"
      },
      "execution_count": null,
      "outputs": [
        {
          "output_type": "stream",
          "name": "stdout",
          "text": [
            "startswith('Python'): True\n",
            "endswith('!'): True\n"
          ]
        }
      ]
    },
    {
      "cell_type": "code",
      "source": [
        "# 5. Dividir a string em uma lista de substrings\n",
        "s_split = s_strip.split()\n",
        "print(f\"split(): {s_split}\")\n",
        "\n",
        "# 6. Juntar uma lista de strings em uma única string\n",
        "s_join = \" \".join(s_split)\n",
        "print(f\"join(): '{s_join}'\")"
      ],
      "metadata": {
        "colab": {
          "base_uri": "https://localhost:8080/"
        },
        "id": "9JimGG0azxb7",
        "outputId": "1c3ac801-ed09-4ed9-aefe-6b22c1310918"
      },
      "execution_count": null,
      "outputs": [
        {
          "output_type": "stream",
          "name": "stdout",
          "text": [
            "split(): ['Python', 'é', 'incrível!']\n",
            "join(): 'Python é incrível!'\n"
          ]
        }
      ]
    },
    {
      "cell_type": "code",
      "source": [
        "print(s_split)\n",
        "type(s_split)"
      ],
      "metadata": {
        "colab": {
          "base_uri": "https://localhost:8080/"
        },
        "id": "As9yXjgvz2cc",
        "outputId": "aa4f6cab-aa07-421b-dfd4-bb6e79258902"
      },
      "execution_count": null,
      "outputs": [
        {
          "output_type": "stream",
          "name": "stdout",
          "text": [
            "['Python', 'é', 'incrível!']\n"
          ]
        },
        {
          "output_type": "execute_result",
          "data": {
            "text/plain": [
              "list"
            ]
          },
          "metadata": {},
          "execution_count": 42
        }
      ]
    },
    {
      "cell_type": "code",
      "source": [
        "# 7. Encontrar a posição de uma substring dentro da string\n",
        "position = s_strip.find(\"é\")\n",
        "print(f\"find('é'): {position}\")\n",
        "\n",
        "# 8. Contar o número de ocorrências de uma substring\n",
        "count = s_strip.count(\"n\")\n",
        "print(f\"count('n'): {count}\")"
      ],
      "metadata": {
        "colab": {
          "base_uri": "https://localhost:8080/"
        },
        "id": "alvA8YKTz0qd",
        "outputId": "454376e9-2045-4a85-c27e-aebf38cc3e0b"
      },
      "execution_count": null,
      "outputs": [
        {
          "output_type": "stream",
          "name": "stdout",
          "text": [
            "find('é'): 7\n",
            "count('n'): 2\n"
          ]
        }
      ]
    },
    {
      "cell_type": "code",
      "source": [
        "# 9. Verificar se a string contém apenas dígitos\n",
        "is_digit = s_strip.isdigit()\n",
        "print(f\"isdigit(): {is_digit}\")"
      ],
      "metadata": {
        "colab": {
          "base_uri": "https://localhost:8080/"
        },
        "id": "vHW2YUhK0CGl",
        "outputId": "f1914dc5-70f8-4a07-f9c7-caff08a97b0a"
      },
      "execution_count": null,
      "outputs": [
        {
          "output_type": "stream",
          "name": "stdout",
          "text": [
            "isdigit(): False\n"
          ]
        }
      ]
    },
    {
      "cell_type": "code",
      "source": [
        "import sys\n",
        "\n",
        "# 10. Substituir variáveis em uma string usando formatação\n",
        "name = \"Python\"\n",
        "version = sys.version\n",
        "s_format = f\"{name} é incrível! A versão atual é {version}.\"\n",
        "print(f\"f-string: '{s_format}'\")"
      ],
      "metadata": {
        "colab": {
          "base_uri": "https://localhost:8080/"
        },
        "id": "w9WSkBB20K0h",
        "outputId": "b12267c0-e999-40e3-e33d-9c7fd7751def"
      },
      "execution_count": null,
      "outputs": [
        {
          "output_type": "stream",
          "name": "stdout",
          "text": [
            "f-string: 'Python é incrível! A versão atual é 3.10.12 (main, Jul 29 2024, 16:56:48) [GCC 11.4.0].'\n"
          ]
        }
      ]
    },
    {
      "cell_type": "markdown",
      "metadata": {
        "id": "o1HeeG4ysuSD"
      },
      "source": [
        "Também é possível realizar operações básicas com as strings"
      ]
    },
    {
      "cell_type": "code",
      "execution_count": null,
      "metadata": {
        "colab": {
          "base_uri": "https://localhost:8080/"
        },
        "id": "5srfb7ArsuSD",
        "outputId": "410b619f-f09c-411a-cee7-8ef13c4ef4e4"
      },
      "outputs": [
        {
          "output_type": "stream",
          "name": "stdout",
          "text": [
            "Oi, Alice!\n",
            "hahaha\n"
          ]
        }
      ],
      "source": [
        "cumprimento = \"Oi\"\n",
        "nome = \"Alice\"\n",
        "\n",
        "# Para a concatenação utilizamos o \"+\"\n",
        "mensagem = cumprimento + \", \" + nome + \"!\"\n",
        "print(mensagem)\n",
        "\n",
        "# Para a repetição utilizamos o \"*\"\n",
        "risada = \"ha\"\n",
        "print(risada * 3)"
      ]
    },
    {
      "cell_type": "markdown",
      "source": [
        "## Autores\n",
        "\n",
        "<a href=\"https://www.linkedin.com/in/eduardopecora/\" target=\"_blank\">Eduardo Pecora</a>\n",
        "\n",
        "<a href=\"https://www.linkedin.com/in/jo%C3%A3o-gabriel-santin-botelho-618244222/\" target=\"_blank\">João Gabriel Santin Botelho</a>\n",
        "\n",
        "\n",
        "## Log de modificações\n",
        "\n",
        "| Data | Versão | Modificado por | Descrição |\n",
        "| ----------------- | ------- | ---------- | ---------------------------------- |\n",
        "| 29-08-2024       | 1.0     | Eduardo Pecora & João Gabriel| Inicial               |\n",
        "\n",
        "<hr>\n",
        "\n",
        "## <h3 align=\"center\"> (c) Liga Data Science/ UFPR 2024. All rights reserved. <h3/>"
      ],
      "metadata": {
        "id": "bwfBdIyGQqSK"
      }
    }
  ],
  "metadata": {
    "kernelspec": {
      "display_name": "Python 3 (ipykernel)",
      "language": "python",
      "name": "python3"
    },
    "language_info": {
      "codemirror_mode": {
        "name": "ipython",
        "version": 3
      },
      "file_extension": ".py",
      "mimetype": "text/x-python",
      "name": "python",
      "nbconvert_exporter": "python",
      "pygments_lexer": "ipython3",
      "version": "3.10.14"
    },
    "colab": {
      "provenance": [],
      "include_colab_link": true
    }
  },
  "nbformat": 4,
  "nbformat_minor": 0
}